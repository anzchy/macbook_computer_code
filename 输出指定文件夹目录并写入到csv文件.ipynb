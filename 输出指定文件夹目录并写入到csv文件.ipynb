{
 "cells": [
  {
   "cell_type": "code",
   "execution_count": 3,
   "id": "b319f438-bec9-45e0-871a-7158d3d8c269",
   "metadata": {},
   "outputs": [
    {
     "name": "stdout",
     "output_type": "stream",
     "text": [
      "文件已保存到当前目录下的 XC_filelist.xlsx 中。\n"
     ]
    }
   ],
   "source": [
    "# 这里保留文件所处文件夹的路径，路径中包含文件本身名称，譬如\"/Users/jack/Documents/fs_project/aaa.docx\"\n",
    "import os\n",
    "import openpyxl\n",
    "\n",
    "# 设置要遍历的根目录\n",
    "root_dir = \"/Users/jack/Documents/xx\"\n",
    "\n",
    "# 创建一个新的 Excel 工作簿\n",
    "workbook = openpyxl.Workbook()\n",
    "worksheet = workbook.active\n",
    "\n",
    "# 定义一个递归函数来遍历文件夹和文件\n",
    "def traverse_directory(dir_path, row):\n",
    "    for item in os.listdir(dir_path):\n",
    "        item_path = os.path.join(dir_path, item)\n",
    "        if os.path.isdir(item_path):\n",
    "            # 如果是文件夹,递归遍历子文件夹\n",
    "            row = traverse_directory(item_path, row)\n",
    "        else:\n",
    "            # 如果是文件,将文件名和绝对路径写入表格\n",
    "            worksheet.cell(row=row, column=1, value=item)\n",
    "            worksheet.cell(row=row, column=2, value=item_path)\n",
    "            row += 1\n",
    "    return row\n",
    "\n",
    "# 开始遍历根目录\n",
    "traverse_directory(root_dir, 1)\n",
    "\n",
    "# 保存 Excel 文件\n",
    "workbook.save(\"/Users/jack/Documents/xx.xlsx\")\n",
    "print(\"文件已保存到当前目录下的 XC_filelist.xlsx 中。\")"
   ]
  },
  {
   "cell_type": "code",
   "execution_count": 4,
   "id": "7766d27a-69d9-40b7-8a22-ca656259e017",
   "metadata": {},
   "outputs": [
    {
     "name": "stdout",
     "output_type": "stream",
     "text": [
      "文件已更新并保存。\n"
     ]
    }
   ],
   "source": [
    "# 这里只保留文件所处文件夹的路径，去除具体文件名称\n",
    "\n",
    "import os\n",
    "import re\n",
    "import openpyxl\n",
    "\n",
    "# 读取 Excel 文件\n",
    "excel_file = \"/Users/jack/Documents/xx.xlsx\"\n",
    "workbook = openpyxl.load_workbook(excel_file)\n",
    "worksheet = workbook.active\n",
    "\n",
    "# 定义正则表达式模式\n",
    "pattern = r\"/Users/chengyong/Documents/folder_name((?:.*?/){2,})\"\n",
    "\n",
    "# 遍历 B 列并替换路径\n",
    "for row in range(2, worksheet.max_row + 1):\n",
    "    cell = worksheet.cell(row=row, column=2)  # B 列\n",
    "    full_path = cell.value\n",
    "    if full_path:\n",
    "        relative_path = re.search(pattern, full_path)\n",
    "        if relative_path:\n",
    "            cell.value = relative_path.group(1)[:-1]  # 去掉最后一个斜杠\n",
    "\n",
    "# 保存 Excel 文件\n",
    "workbook.save(excel_file)\n",
    "print(\"文件已更新并保存。\")"
   ]
  },
  {
   "cell_type": "code",
   "execution_count": null,
   "id": "74acc72d-7d32-4c7d-913d-39ad5e11746d",
   "metadata": {},
   "outputs": [],
   "source": [
    "# 第三步，在 Excel 中操作，对 A 列的路径排序；\n",
    "# 第四步，复制一下表格到 sheet2，把文件名放在 A 列，把路径放在 B 列，复制B 列到 C 列，对 C 列进行分列操作，把二级目录，三级目录摘出来。"
   ]
  },
  {
   "cell_type": "markdown",
   "id": "2aff3e54-05df-4b25-ac6f-b917041ce2c8",
   "metadata": {},
   "source": [
    "下面的程序是利用正则表达式，批量读取文件名中的日期，并写入到另外一列的功能。\n",
    "注意：这里应用了\\d 和重复次数来提取至少 6 位及以上连续的数字。\n",
    "- r'\\d+'寻找任何数字的正则表达式,'+'的含义见正则表达式 repetted numbers,意思是返回整个组合\n",
    "- r'\\d'会将数字拆开，一个一个返回。\n",
    "- r'\\d{6,}'排除了譬如文件中 “01”这样的两位连续数字，"
   ]
  },
  {
   "cell_type": "code",
   "execution_count": 12,
   "id": "7914a3eb-7468-464e-a187-b364288757e1",
   "metadata": {},
   "outputs": [],
   "source": [
    "import re\n",
    "# r'\\d+'寻找任何数字的正则表达式,'+'的含义见正则表达式 repetted numbers,意思是返回整个组合\n",
    "# r'\\d'会将数字拆开，一个一个返回。\n",
    "# r'\\d{6,}'排除了譬如文件中 “01”这样的两位连续数字， \n",
    "def findate(filepath):\n",
    "    pattern = re.compile(r'\\d{6,}')\n",
    "    word = re.findall(pattern, filepath) # 定义函数，别忘了返回一个数值\n",
    "    if word:\n",
    "        return word\n",
    "    else:\n",
    "        return 'none'\n",
    "    \n"
   ]
  },
  {
   "cell_type": "code",
   "execution_count": 23,
   "id": "127267d2-8aa7-4797-aca5-bc656ceed6b7",
   "metadata": {},
   "outputs": [
    {
     "data": {
      "text/plain": [
       "['20240510']"
      ]
     },
     "execution_count": 23,
     "metadata": {},
     "output_type": "execute_result"
    }
   ],
   "source": [
    "# test 函数健壮性，会不会误识别出“01”或者“2024（1）号”\n",
    "findate(\"01 沪 张三股份2024（1）号  20240510 makup.docx\")"
   ]
  },
  {
   "cell_type": "code",
   "execution_count": null,
   "id": "94082916-09af-40a2-b0e3-3125193283e3",
   "metadata": {},
   "outputs": [],
   "source": [
    "import csv\n",
    "\n",
    "words = [] # 注意要先声明一个空的列表，将 csv 的列都存在一个 list 中\n",
    "\n",
    "# 这里引入 csv 具体路径，我约定的是和程序同一文件夹下\n",
    "with open('zx.csv', 'r') as file:\n",
    "    reader = csv.reader(file)\n",
    "    for row in reader:\n",
    "        words.append(row[0])\n",
    "print(words)\n",
    "        "
   ]
  },
  {
   "cell_type": "code",
   "execution_count": 14,
   "id": "8aa9d9ab-3022-4275-ae76-abad71feafb8",
   "metadata": {},
   "outputs": [],
   "source": [
    "# 写入时候，如果 CSV 不存在，程序会自动创建一个新的文件写入\n",
    "with open('zx_1.csv', 'w', newline='' ) as file:\n",
    "    writer = csv.writer(file)\n",
    "    writer.writerow(['filepath','date'])\n",
    "    \n",
    "    for word in words:\n",
    "        date = findate(word)\n",
    "        if date != 'none': # 判断语句很重要，不然，如果没有日期，直接 writerow，会错位\n",
    "            writer.writerow([word, date[0]]) # 这里date是一个list，元素只有1个，要写入具体日期，就要用 date[0]访问\n",
    "        else:\n",
    "            writer.writerow([word, 'none'])"
   ]
  },
  {
   "cell_type": "code",
   "execution_count": null,
   "id": "16e222fa-2f21-43e3-8a45-8f7abb975668",
   "metadata": {},
   "outputs": [],
   "source": []
  }
 ],
 "metadata": {
  "kernelspec": {
   "display_name": "Python 3 (ipykernel)",
   "language": "python",
   "name": "python3"
  },
  "language_info": {
   "codemirror_mode": {
    "name": "ipython",
    "version": 3
   },
   "file_extension": ".py",
   "mimetype": "text/x-python",
   "name": "python",
   "nbconvert_exporter": "python",
   "pygments_lexer": "ipython3",
   "version": "3.8.18"
  }
 },
 "nbformat": 4,
 "nbformat_minor": 5
}
