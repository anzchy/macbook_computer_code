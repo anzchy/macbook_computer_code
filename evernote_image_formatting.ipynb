{
 "cells": [
  {
   "cell_type": "code",
   "execution_count": null,
   "id": "1673422c-f1ea-452d-a780-e0d414181ed0",
   "metadata": {},
   "outputs": [],
   "source": [
    "```\n",
    "本程序用于将 Yarle 程序导出的 markdown 格式文章中的 图片格式，批量处理为 typora 支持的格式，利用了正则表达式匹配原则，进行批量更换。\n",
    "```"
   ]
  },
  {
   "cell_type": "code",
   "execution_count": 1,
   "id": "5eac3b34-f873-419a-8882-c4fc31177584",
   "metadata": {},
   "outputs": [
    {
     "name": "stdout",
     "output_type": "stream",
     "text": [
      "Markdown文件中的图片链接已更新。\n"
     ]
    }
   ],
   "source": [
    "import os\n",
    "import re\n",
    "\n",
    "# 指定文件夹路径\n",
    "folder_path = '/Users/chengyong/Documents/10_个人文档/印象笔记定期备份/evernote/notes/Evernote-20240708/'\n",
    "\n",
    "# 遍历文件夹中的所有文件\n",
    "for filename in os.listdir(folder_path):\n",
    "    # 检查文件扩展名是否为.md\n",
    "    if filename.endswith('.md'):\n",
    "        file_path = os.path.join(folder_path, filename)\n",
    "        \n",
    "        # 读取文件内容\n",
    "        with open(file_path, 'r', encoding='utf-8') as file:\n",
    "            markdown_content = file.read()\n",
    "        \n",
    "        # 定义正则表达式，匹配![[filepath]]格式\n",
    "        img_pattern = r'!\\[\\[(.*?)\\]\\]'\n",
    "        \n",
    "        # 使用正则表达式替换图片链接\n",
    "        new_markdown_content = re.sub(img_pattern, r'![](\\1)', markdown_content)\n",
    "        \n",
    "        # 将修改后的内容写回文件\n",
    "        with open(file_path, 'w', encoding='utf-8') as file:\n",
    "            file.write(new_markdown_content)\n",
    "\n",
    "print(\"Markdown文件中的图片链接已更新。\")"
   ]
  },
  {
   "cell_type": "code",
   "execution_count": null,
   "id": "20e7909d-f08c-482b-b941-4ba20ecb82e2",
   "metadata": {},
   "outputs": [],
   "source": []
  }
 ],
 "metadata": {
  "kernelspec": {
   "display_name": "Python 3 (ipykernel)",
   "language": "python",
   "name": "python3"
  },
  "language_info": {
   "codemirror_mode": {
    "name": "ipython",
    "version": 3
   },
   "file_extension": ".py",
   "mimetype": "text/x-python",
   "name": "python",
   "nbconvert_exporter": "python",
   "pygments_lexer": "ipython3",
   "version": "3.8.18"
  }
 },
 "nbformat": 4,
 "nbformat_minor": 5
}
