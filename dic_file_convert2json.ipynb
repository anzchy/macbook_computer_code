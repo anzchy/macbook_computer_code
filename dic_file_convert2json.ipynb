{
 "cells": [
  {
   "cell_type": "code",
   "execution_count": null,
   "id": "17e338d3-d183-4c90-8f2b-7179825f0c62",
   "metadata": {},
   "outputs": [],
   "source": [
    "wget https://github.com/ilius/pyglossary/releases/download/4.7.0/pyglossary-4.7.0-py3-none-any.whl"
   ]
  },
  {
   "cell_type": "code",
   "execution_count": null,
   "id": "7bd5bd48-b771-4c3b-93c1-ff7130e1754f",
   "metadata": {},
   "outputs": [],
   "source": [
    "pip install pyglossary-4.7.0-py3-none-any.whl"
   ]
  },
  {
   "cell_type": "code",
   "execution_count": 3,
   "id": "170480c4-d89e-4eb9-9bbe-406fba8ea267",
   "metadata": {
    "scrolled": true
   },
   "outputs": [
    {
     "ename": "ModuleNotFoundError",
     "evalue": "No module named 'pyglossary.glossary_file'",
     "output_type": "error",
     "traceback": [
      "\u001b[0;31m---------------------------------------------------------------------------\u001b[0m",
      "\u001b[0;31mModuleNotFoundError\u001b[0m                       Traceback (most recent call last)",
      "Cell \u001b[0;32mIn[3], line 1\u001b[0m\n\u001b[0;32m----> 1\u001b[0m \u001b[38;5;28;01mfrom\u001b[39;00m \u001b[38;5;21;01mpyglossary\u001b[39;00m\u001b[38;5;21;01m.\u001b[39;00m\u001b[38;5;21;01mglossary_file\u001b[39;00m \u001b[38;5;28;01mimport\u001b[39;00m GlossaryFile\n\u001b[1;32m      2\u001b[0m \u001b[38;5;28;01mfrom\u001b[39;00m \u001b[38;5;21;01mpyglossary\u001b[39;00m\u001b[38;5;21;01m.\u001b[39;00m\u001b[38;5;21;01mtext_reader\u001b[39;00m \u001b[38;5;28;01mimport\u001b[39;00m TextGlossaryReader\n\u001b[1;32m      3\u001b[0m \u001b[38;5;28;01mfrom\u001b[39;00m \u001b[38;5;21;01mpyglossary\u001b[39;00m\u001b[38;5;21;01m.\u001b[39;00m\u001b[38;5;21;01mtext_writer\u001b[39;00m \u001b[38;5;28;01mimport\u001b[39;00m TextGlossaryWriter\n",
      "\u001b[0;31mModuleNotFoundError\u001b[0m: No module named 'pyglossary.glossary_file'"
     ]
    }
   ],
   "source": [
    "from pyglossary.glossary_file import GlossaryFile\n",
    "from pyglossary.text_reader import TextGlossaryReader\n",
    "from pyglossary.text_writer import TextGlossaryWriter\n",
    "import os\n",
    "\n",
    "def convert_to_json(data_file, index_file, output_file):\n",
    "    reader = TextGlossaryReader(data_file, index_file)\n",
    "    writer = TextGlossaryWriter(output_file, 'json')\n",
    "\n",
    "    with GlossaryFile(reader=reader, writer=writer) as glos:\n",
    "        glos.read()\n",
    "        glos.write()\n",
    "\n",
    "    print(f\"Successfully converted to JSON: {output_file}\")\n",
    "\n",
    "if __name__ == '__main__':\n",
    "    data_file = '/Users/chengyong/Documents/01_Coding/KeyText.data'\n",
    "    index_file = '/Users/chengyong/Documents/01_Coding/KeyText.index'\n",
    "    output_file = '/Users/chengyong/Documents/01_Coding/dictionary.json'\n",
    "\n",
    "    convert_to_json(data_file, index_file, output_file)"
   ]
  },
  {
   "cell_type": "code",
   "execution_count": 4,
   "id": "56638c14-929c-412a-9cf4-64c90264d982",
   "metadata": {},
   "outputs": [
    {
     "ename": "AttributeError",
     "evalue": "module 'pyglossary' has no attribute 'TextGlossaryReader'",
     "output_type": "error",
     "traceback": [
      "\u001b[0;31m---------------------------------------------------------------------------\u001b[0m",
      "\u001b[0;31mAttributeError\u001b[0m                            Traceback (most recent call last)",
      "Cell \u001b[0;32mIn[4], line 19\u001b[0m\n\u001b[1;32m     16\u001b[0m index_file \u001b[38;5;241m=\u001b[39m \u001b[38;5;124m'\u001b[39m\u001b[38;5;124m/Users/chengyong/Documents/01_Coding/KeyText.index\u001b[39m\u001b[38;5;124m'\u001b[39m\n\u001b[1;32m     17\u001b[0m output_file \u001b[38;5;241m=\u001b[39m \u001b[38;5;124m'\u001b[39m\u001b[38;5;124m/Users/chengyong/Documents/01_Coding/dictionary.json\u001b[39m\u001b[38;5;124m'\u001b[39m\n\u001b[0;32m---> 19\u001b[0m \u001b[43mconvert_to_json\u001b[49m\u001b[43m(\u001b[49m\u001b[43mdata_file\u001b[49m\u001b[43m,\u001b[49m\u001b[43m \u001b[49m\u001b[43mindex_file\u001b[49m\u001b[43m,\u001b[49m\u001b[43m \u001b[49m\u001b[43moutput_file\u001b[49m\u001b[43m)\u001b[49m\n",
      "Cell \u001b[0;32mIn[4], line 5\u001b[0m, in \u001b[0;36mconvert_to_json\u001b[0;34m(data_file, index_file, output_file)\u001b[0m\n\u001b[1;32m      4\u001b[0m \u001b[38;5;28;01mdef\u001b[39;00m \u001b[38;5;21mconvert_to_json\u001b[39m(data_file, index_file, output_file):\n\u001b[0;32m----> 5\u001b[0m     reader \u001b[38;5;241m=\u001b[39m \u001b[43mpyglossary\u001b[49m\u001b[38;5;241;43m.\u001b[39;49m\u001b[43mTextGlossaryReader\u001b[49m(data_file, index_file)\n\u001b[1;32m      6\u001b[0m     writer \u001b[38;5;241m=\u001b[39m pyglossary\u001b[38;5;241m.\u001b[39mTextGlossaryWriter(output_file, \u001b[38;5;124m'\u001b[39m\u001b[38;5;124mjson\u001b[39m\u001b[38;5;124m'\u001b[39m)\n\u001b[1;32m      8\u001b[0m     \u001b[38;5;28;01mwith\u001b[39;00m pyglossary\u001b[38;5;241m.\u001b[39mGlossaryFile(reader\u001b[38;5;241m=\u001b[39mreader, writer\u001b[38;5;241m=\u001b[39mwriter) \u001b[38;5;28;01mas\u001b[39;00m glos:\n",
      "\u001b[0;31mAttributeError\u001b[0m: module 'pyglossary' has no attribute 'TextGlossaryReader'"
     ]
    }
   ],
   "source": [
    "import pyglossary\n",
    "import os\n",
    "\n",
    "def convert_to_json(data_file, index_file, output_file):\n",
    "    reader = pyglossary.TextGlossaryReader(data_file, index_file)\n",
    "    writer = pyglossary.TextGlossaryWriter(output_file, 'json')\n",
    "\n",
    "    with pyglossary.GlossaryFile(reader=reader, writer=writer) as glos:\n",
    "        glos.read()\n",
    "        glos.write()\n",
    "\n",
    "    print(f\"Successfully converted to JSON: {output_file}\")\n",
    "\n",
    "if __name__ == '__main__':\n",
    "    data_file = '/Users/chengyong/Documents/01_Coding/KeyText.data'\n",
    "    index_file = '/Users/chengyong/Documents/01_Coding/KeyText.index'\n",
    "    output_file = '/Users/chengyong/Documents/01_Coding/dictionary.json'\n",
    "\n",
    "    convert_to_json(data_file, index_file, output_file)"
   ]
  }
 ],
 "metadata": {
  "kernelspec": {
   "display_name": "Python 3 (ipykernel)",
   "language": "python",
   "name": "python3"
  },
  "language_info": {
   "codemirror_mode": {
    "name": "ipython",
    "version": 3
   },
   "file_extension": ".py",
   "mimetype": "text/x-python",
   "name": "python",
   "nbconvert_exporter": "python",
   "pygments_lexer": "ipython3",
   "version": "3.8.18"
  }
 },
 "nbformat": 4,
 "nbformat_minor": 5
}
