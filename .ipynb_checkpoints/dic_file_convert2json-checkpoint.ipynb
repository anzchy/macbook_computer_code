{
 "cells": [
  {
   "cell_type": "code",
   "execution_count": 1,
   "id": "17e338d3-d183-4c90-8f2b-7179825f0c62",
   "metadata": {},
   "outputs": [
    {
     "name": "stdout",
     "output_type": "stream",
     "text": [
      "Looking in indexes: https://pypi.tuna.tsinghua.edu.cn/simple\n",
      "Collecting pyglossary\n",
      "  Downloading https://pypi.tuna.tsinghua.edu.cn/packages/46/f5/295c0c15c3e639c44350df9086005ef6bb3f39253a87f4482ccd57574287/pyglossary-4.5.0-py3-none-any.whl (394 kB)\n",
      "\u001b[2K     \u001b[90m━━━━━━━━━━━━━━━━━━━━━━━━━━━━━━━━━━━━━━━\u001b[0m \u001b[32m394.4/394.4 kB\u001b[0m \u001b[31m3.0 MB/s\u001b[0m eta \u001b[36m0:00:00\u001b[0ma \u001b[36m0:00:01\u001b[0m\n",
      "\u001b[?25hInstalling collected packages: pyglossary\n",
      "Successfully installed pyglossary-4.5.0\n",
      "Note: you may need to restart the kernel to use updated packages.\n"
     ]
    }
   ],
   "source": [
    "pip install pyglossary"
   ]
  },
  {
   "cell_type": "code",
   "execution_count": 1,
   "id": "a56c0360-7649-4135-aaad-5a8ed7643b15",
   "metadata": {},
   "outputs": [
    {
     "ename": "ModuleNotFoundError",
     "evalue": "No module named 'pyglossary.glossary_file'",
     "output_type": "error",
     "traceback": [
      "\u001b[0;31m---------------------------------------------------------------------------\u001b[0m",
      "\u001b[0;31mModuleNotFoundError\u001b[0m                       Traceback (most recent call last)",
      "Cell \u001b[0;32mIn[1], line 1\u001b[0m\n\u001b[0;32m----> 1\u001b[0m \u001b[38;5;28;01mfrom\u001b[39;00m \u001b[38;5;21;01mpyglossary\u001b[39;00m\u001b[38;5;21;01m.\u001b[39;00m\u001b[38;5;21;01mglossary_file\u001b[39;00m \u001b[38;5;28;01mimport\u001b[39;00m GlossaryFile\n\u001b[1;32m      2\u001b[0m \u001b[38;5;28;01mfrom\u001b[39;00m \u001b[38;5;21;01mpyglossary\u001b[39;00m\u001b[38;5;21;01m.\u001b[39;00m\u001b[38;5;21;01mtext_reader\u001b[39;00m \u001b[38;5;28;01mimport\u001b[39;00m TextGlossaryReader\n\u001b[1;32m      3\u001b[0m \u001b[38;5;28;01mfrom\u001b[39;00m \u001b[38;5;21;01mpyglossary\u001b[39;00m\u001b[38;5;21;01m.\u001b[39;00m\u001b[38;5;21;01mtext_writer\u001b[39;00m \u001b[38;5;28;01mimport\u001b[39;00m TextGlossaryWriter\n",
      "\u001b[0;31mModuleNotFoundError\u001b[0m: No module named 'pyglossary.glossary_file'"
     ]
    }
   ],
   "source": [
    "from pyglossary.glossary_file import GlossaryFile\n",
    "from pyglossary.text_reader import TextGlossaryReader\n",
    "from pyglossary.text_writer import TextGlossaryWriter\n",
    "import os\n",
    "\n",
    "def convert_to_json(data_file, index_file, output_file):\n",
    "    reader = TextGlossaryReader(data_file, index_file)\n",
    "    writer = TextGlossaryWriter(output_file, 'json')\n",
    "\n",
    "    with GlossaryFile(reader=reader, writer=writer) as glos:\n",
    "        glos.read()\n",
    "        glos.write()\n",
    "\n",
    "    print(f\"Successfully converted to JSON: {output_file}\")\n",
    "\n",
    "if __:\n",
    "    # 替换为你的实际文件路径\n",
    "    data_file = '/Users/chengyong/Documents/01_Coding/KeyText.data'\n",
    "    index_file = '/Users/chengyong/Documents/01_Coding/KeyText.index'\n",
    "    output_file = '/Users/chengyong/Documents/01_Coding/dictionary.json'\n",
    "\n",
    "    convert_to_json(data_file, index_file, output_file)"
   ]
  },
  {
   "cell_type": "code",
   "execution_count": null,
   "id": "170480c4-d89e-4eb9-9bbe-406fba8ea267",
   "metadata": {},
   "outputs": [],
   "source": []
  }
 ],
 "metadata": {
  "kernelspec": {
   "display_name": "Python 3 (ipykernel)",
   "language": "python",
   "name": "python3"
  },
  "language_info": {
   "codemirror_mode": {
    "name": "ipython",
    "version": 3
   },
   "file_extension": ".py",
   "mimetype": "text/x-python",
   "name": "python",
   "nbconvert_exporter": "python",
   "pygments_lexer": "ipython3",
   "version": "3.8.18"
  }
 },
 "nbformat": 4,
 "nbformat_minor": 5
}
