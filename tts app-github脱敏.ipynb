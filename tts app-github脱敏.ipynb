{
 "cells": [
  {
   "cell_type": "code",
   "execution_count": 11,
   "id": "08f96a4d-cdd9-4f45-ae3c-0d31bd492c03",
   "metadata": {},
   "outputs": [
    {
     "name": "stdout",
     "output_type": "stream",
     "text": [
      "You know, I believe life-long learning is essential in today's fast-paced world.Absolutely! It's amazing how much knowledge we can gain if we keep our minds open.Right? Like, every day brings a new opportunity to learn something new.For sure! But don’t you think some people struggle to find the time for it?That’s a fair point. Balancing work, family, and learning can be tough.Exactly! Some folks just feel overwhelmed and give up.Or they might think they’re too old to start learning something new.Oh, I totally disagree! Learning is ageless. You can always pick up a new hobby.True! I once met a 70-year-old who started learning the guitar. It was inspiring!That’s the spirit! But what about formal education? Is it still relevant?I believe it is, but online courses are becoming more popular these days.Agreed! They offer flexibility, but some people miss the interaction of a classroom.That’s valid. Yet, learning platforms like Coursera and Udemy are quite interactive.True, but they’re not quite the same as face-to-face engagement.You might be right. Still, I think we need to acknowledge the evolution of learning.Of course! But what about older generations? Are they embracing these changes?That’s a bit mixed. Some adapt quickly, while others seem skeptical.I can see why. Change can be daunting at any age.Exactly! But if they take the plunge, they might find it rewarding.Absolutely! I just wish more people would see the value in life-long learning.\n"
     ]
    }
   ],
   "source": [
    "# 读取用户提供的 conversation 文件\n",
    "import json\n",
    "\n",
    "filepath = 'xx/conversation.json'\n",
    "with open(filepath, 'r', encoding='utf-8') as file:\n",
    "    data = json.load(file)\n",
    "\n",
    "# 提取 Nova 的对话\n",
    "\n",
    "# 这里就将json格式提出来{\"Nova\":xxx},{\"Alloy\"：xxx}\n",
    "nova_dialogues = []\n",
    "alloy_dialogues = []\n",
    "\n",
    "# 如果想将第二段对话转写，这里用 data[\"conversations\"][1][\"exchanges\"]\n",
    "for exchange in data[\"conversations\"][0][\"exchanges\"]: \n",
    "    if \"Nova\" in exchange:\n",
    "        nova_dialogues.append(exchange[\"Nova\"])\n",
    "    if \"Alloy\" in exchange:\n",
    "        alloy_dialogues.append(exchange[\"Alloy\"])\n",
    "\n",
    "# 这里 nova_dialogues 的格式是[\"hello jack.\", 'I'm fine']\n",
    "\n",
    "\n",
    "# 只打印 Nova 说的话\n",
    "# for dia in nova_dialogues:\n",
    "#     print(dia)\n",
    "# print('\\n')\n",
    "\n",
    "# # 只打印 Alloy 说的话\n",
    "# for dia in alloy_dialogues:\n",
    "#     print(dia)\n",
    "\n",
    "# print(alloy_dialogues)\n",
    "passage = \"\"\n",
    "# 把 nova 和 alloy 的对话合并在一起，利用字符串的 contenation\n",
    "for i in range(len(nova_dialogues)):\n",
    "    passage = passage + alloy_dialogues[i]\n",
    "    passage = passage + nova_dialogues[i]\n",
    "\n",
    "print(passage) "
   ]
  },
  {
   "cell_type": "code",
   "execution_count": 12,
   "id": "78c24d15-8154-4e7d-9f7b-21c16900e3f6",
   "metadata": {},
   "outputs": [
    {
     "name": "stderr",
     "output_type": "stream",
     "text": [
      "/var/folders/yp/qyzd_0dx27vblg19cv45z67h0000gn/T/ipykernel_60072/1349726114.py:19: DeprecationWarning: Due to a bug, this method doesn't actually stream the response content, `.with_streaming_response.method()` should be used instead\n",
      "  response.stream_to_file(speech_file_path)\n"
     ]
    }
   ],
   "source": [
    "# passage 文字转语音\n",
    "\n",
    "from pathlib import Path\n",
    "from openai import OpenAI\n",
    "\n",
    "# model_choice: 'tts-1','tts-1-hd'\n",
    "# voice_choice: 'alloy', 'echo', 'fable', 'onyx', 'nova', 'shimmer'\n",
    "\n",
    "def tts(model_choice, inputtext):\n",
    "    client = OpenAI(api_key=\"xx\")\n",
    "    \n",
    "    speech_file_path = \"output.mp3\"\n",
    "    response = client.audio.speech.create(\n",
    "      model=model_choice,\n",
    "      voice=\"alloy\",\n",
    "      input=inputtext\n",
    "    )\n",
    "    \n",
    "    response.stream_to_file(speech_file_path)\n",
    "\n",
    "tts(\"tts-1\", passage)"
   ]
  }
 ],
 "metadata": {
  "kernelspec": {
   "display_name": "Python 3 (ipykernel)",
   "language": "python",
   "name": "python3"
  },
  "language_info": {
   "codemirror_mode": {
    "name": "ipython",
    "version": 3
   },
   "file_extension": ".py",
   "mimetype": "text/x-python",
   "name": "python",
   "nbconvert_exporter": "python",
   "pygments_lexer": "ipython3",
   "version": "3.8.18"
  }
 },
 "nbformat": 4,
 "nbformat_minor": 5
}
