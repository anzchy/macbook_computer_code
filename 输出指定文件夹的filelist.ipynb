{
 "cells": [
  {
   "cell_type": "code",
   "execution_count": 1,
   "id": "b319f438-bec9-45e0-871a-7158d3d8c269",
   "metadata": {},
   "outputs": [
    {
     "name": "stdout",
     "output_type": "stream",
     "text": [
      "文件已保存到当前目录下的 ZX_filelist.xlsx 中。\n"
     ]
    }
   ],
   "source": [
    "import os\n",
    "import openpyxl\n",
    "\n",
    "# 设置要遍历的根目录\n",
    "root_dir = \"/Users/chengyong/Documents/AA_信峘基金项目归档/C兆芯\"\n",
    "\n",
    "# 创建一个新的 Excel 工作簿\n",
    "workbook = openpyxl.Workbook()\n",
    "worksheet = workbook.active\n",
    "\n",
    "# 定义一个递归函数来遍历文件夹和文件\n",
    "def traverse_directory(dir_path, row):\n",
    "    for item in os.listdir(dir_path):\n",
    "        item_path = os.path.join(dir_path, item)\n",
    "        if os.path.isdir(item_path):\n",
    "            # 如果是文件夹,递归遍历子文件夹\n",
    "            row = traverse_directory(item_path, row)\n",
    "        else:\n",
    "            # 如果是文件,将文件名和绝对路径写入表格\n",
    "            worksheet.cell(row=row, column=1, value=item)\n",
    "            worksheet.cell(row=row, column=2, value=item_path)\n",
    "            row += 1\n",
    "    return row\n",
    "\n",
    "# 开始遍历根目录\n",
    "traverse_directory(root_dir, 1)\n",
    "\n",
    "# 保存 Excel 文件\n",
    "workbook.save(\"/Users/chengyong/Documents/AA_信峘基金项目归档/ZX_filelist.xlsx\")\n",
    "print(\"文件已保存到当前目录下的 ZX_filelist.xlsx 中。\")"
   ]
  },
  {
   "cell_type": "code",
   "execution_count": 2,
   "id": "7766d27a-69d9-40b7-8a22-ca656259e017",
   "metadata": {},
   "outputs": [
    {
     "name": "stdout",
     "output_type": "stream",
     "text": [
      "文件已更新并保存。\n"
     ]
    }
   ],
   "source": [
    "# 这里只保留文件所处文件夹的路径，去除具体文件名称\n",
    "\n",
    "import os\n",
    "import re\n",
    "import openpyxl\n",
    "\n",
    "# 读取 Excel 文件\n",
    "excel_file = \"/Users/chengyong/Documents/AA_信峘基金项目归档/ZX_filelist.xlsx\"\n",
    "workbook = openpyxl.load_workbook(excel_file)\n",
    "worksheet = workbook.active\n",
    "\n",
    "# 定义正则表达式模式\n",
    "pattern = r\"/Users/chengyong/Documents/AA_信峘基金项目归档((?:.*?/){2,})\"\n",
    "\n",
    "# 遍历 B 列并替换路径\n",
    "for row in range(2, worksheet.max_row + 1):\n",
    "    cell = worksheet.cell(row=row, column=2)  # B 列\n",
    "    full_path = cell.value\n",
    "    if full_path:\n",
    "        relative_path = re.search(pattern, full_path)\n",
    "        if relative_path:\n",
    "            cell.value = relative_path.group(1)[:-1]  # 去掉最后一个斜杠\n",
    "\n",
    "# 保存 Excel 文件\n",
    "workbook.save(excel_file)\n",
    "print(\"文件已更新并保存。\")"
   ]
  },
  {
   "cell_type": "code",
   "execution_count": null,
   "id": "74acc72d-7d32-4c7d-913d-39ad5e11746d",
   "metadata": {},
   "outputs": [],
   "source": [
    "# 第三步，在 Excel 中操作，对 A 列的路径排序；\n",
    "# 第四步，复制一下表格到 sheet2，把文件名放在 A 列，把路径放在 B 列，复制B 列到 C 列，对 C 列进行分列操作，把二级目录，三级目录摘出来。"
   ]
  }
 ],
 "metadata": {
  "kernelspec": {
   "display_name": "Python 3 (ipykernel)",
   "language": "python",
   "name": "python3"
  },
  "language_info": {
   "codemirror_mode": {
    "name": "ipython",
    "version": 3
   },
   "file_extension": ".py",
   "mimetype": "text/x-python",
   "name": "python",
   "nbconvert_exporter": "python",
   "pygments_lexer": "ipython3",
   "version": "3.8.18"
  }
 },
 "nbformat": 4,
 "nbformat_minor": 5
}
